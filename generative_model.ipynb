{
 "cells": [
  {
   "cell_type": "code",
   "execution_count": 1,
   "metadata": {},
   "outputs": [],
   "source": [
    "import numpy as np\n",
    "import scipy\n",
    "from scipy.stats import dirichlet, multinomial\n",
    "import pandas as pd"
   ]
  },
  {
   "cell_type": "code",
   "execution_count": 2,
   "metadata": {},
   "outputs": [],
   "source": [
    "tau = [0.2, 0.2, 0.6]\n",
    "alpha = [0.4, 5, 15] # topics\n",
    "alpha_d = [1,1,3] #documents"
   ]
  },
  {
   "cell_type": "code",
   "execution_count": 3,
   "metadata": {},
   "outputs": [
    {
     "data": {
      "text/plain": [
       "0.2843831684937255"
      ]
     },
     "execution_count": 3,
     "metadata": {},
     "output_type": "execute_result"
    }
   ],
   "source": [
    "dirichlet.pdf(tau, alpha)"
   ]
  },
  {
   "cell_type": "code",
   "execution_count": 4,
   "metadata": {},
   "outputs": [
    {
     "data": {
      "text/plain": [
       "array([1.86009159e-04, 1.31354480e-01, 8.68459511e-01])"
      ]
     },
     "execution_count": 4,
     "metadata": {},
     "output_type": "execute_result"
    }
   ],
   "source": [
    "phi = dirichlet.rvs(alpha, random_state=47)\n",
    "phi[0]\n"
   ]
  },
  {
   "cell_type": "code",
   "execution_count": 5,
   "metadata": {},
   "outputs": [
    {
     "data": {
      "text/plain": [
       "array([[0.02274301, 0.69259478, 0.28466221]])"
      ]
     },
     "execution_count": 5,
     "metadata": {},
     "output_type": "execute_result"
    }
   ],
   "source": [
    "theta = dirichlet.rvs(alpha_d, random_state=47)\n",
    "theta"
   ]
  },
  {
   "cell_type": "code",
   "execution_count": 6,
   "metadata": {},
   "outputs": [
    {
     "data": {
      "text/plain": [
       "(0.3601319176763589,\n",
       " 0.46372346908583995,\n",
       " 0.010288130317208238,\n",
       " 0.6823066529408928)"
      ]
     },
     "execution_count": 6,
     "metadata": {},
     "output_type": "execute_result"
    }
   ],
   "source": [
    "#Beta distribution using theta -> document distribution\n",
    "scipy.stats.beta.fit(data=theta)"
   ]
  },
  {
   "cell_type": "code",
   "execution_count": null,
   "metadata": {},
   "outputs": [],
   "source": []
  },
  {
   "cell_type": "code",
   "execution_count": 7,
   "metadata": {},
   "outputs": [],
   "source": [
    "#documents = [\"Cars are fast\", \"Trains are faster\"]\n",
    "words = ['cars','trains','bike','fast','slow','rapid','sluggish','trash','garbage','refuse']\n",
    "V = 5\n",
    "K = 3 #Vehicles, Speed, Junk"
   ]
  },
  {
   "cell_type": "code",
   "execution_count": 8,
   "metadata": {},
   "outputs": [],
   "source": [
    "doc_len = [9,11,16]\n",
    "taus_topic = [[.9,.05,.05],\n",
    "              [.1,.8,.1],\n",
    "              [.1,.1,.8]]\n",
    "\n",
    "taus_word = [[0.2,0.2,0.2,0.05,0.05,0.05,0.05,0.05,0.05,0.05],\n",
    "             [0.05,0.05,0.05,0.05,0.05,0.05,0.05,0.2,0.2,0.2],\n",
    "             [0.05,0.05,0.05,0.2,0.2,0.15,0.15,0.05,0.05,0.05]\n",
    "             ]\n",
    "alpha_0 = 5\n",
    "alpha_1 = 5\n",
    "documents = []\n",
    "\n",
    "for k in range(len(doc_len)):\n",
    "    words_doc = []\n",
    "    for i in range(doc_len[k]):\n",
    "        topic_prob = dirichlet.rvs([alpha_0 * t for t in taus_topic[k]])\n",
    "        topic = list(multinomial.rvs(1,topic_prob[0]))\n",
    "        topic = topic.index(1)\n",
    "        #print(topic_prob)\n",
    "        word_prob = dirichlet.rvs([alpha_1*t for t in taus_word[topic]])\n",
    "        word_ind = list(multinomial.rvs(1,word_prob[0]))\n",
    "        word_ind = word_ind.index(1)\n",
    "        words_doc.append(words[word_ind])\n",
    "    documents.append(words_doc)\n",
    "\n",
    "#documents"
   ]
  },
  {
   "cell_type": "code",
   "execution_count": 9,
   "metadata": {},
   "outputs": [
    {
     "data": {
      "text/plain": [
       "['bike rapid trains trash trash trains trains trains fast',\n",
       " 'trash cars refuse trash sluggish bike refuse cars fast slow trash',\n",
       " 'sluggish sluggish rapid sluggish garbage trains slow trash slow rapid trash fast fast rapid fast trash']"
      ]
     },
     "execution_count": 9,
     "metadata": {},
     "output_type": "execute_result"
    }
   ],
   "source": [
    "new_documents = [' '.join(d) for d in documents]\n",
    "new_documents"
   ]
  },
  {
   "cell_type": "markdown",
   "metadata": {},
   "source": [
    "## Running Gibbs sampler on small data set"
   ]
  },
  {
   "cell_type": "code",
   "execution_count": 10,
   "metadata": {},
   "outputs": [
    {
     "data": {
      "text/plain": [
       "(['day',\n",
       "  'turkey',\n",
       "  'i',\n",
       "  'the',\n",
       "  'turtle',\n",
       "  'star',\n",
       "  'travel',\n",
       "  'space',\n",
       "  'on',\n",
       "  'to',\n",
       "  'holiday',\n",
       "  'museum',\n",
       "  'is',\n",
       "  'cool',\n",
       "  'thanksgiving',\n",
       "  'cake',\n",
       "  'aspiring',\n",
       "  'movie',\n",
       "  'eat',\n",
       "  'trot',\n",
       "  'and',\n",
       "  'like',\n",
       "  'race',\n",
       "  'time',\n",
       "  'at',\n",
       "  'air',\n",
       "  'snail'],\n",
       " 27)"
      ]
     },
     "execution_count": 10,
     "metadata": {},
     "output_type": "execute_result"
    }
   ],
   "source": [
    "raw_docs = [\n",
    "    \"eat turkey on turkey day holiday\",\n",
    "    \"i like to eat cake on holiday\",\n",
    "    \"turkey trot race on thanksgiving holiday\",\n",
    "    \"snail race the turtle\",\n",
    "    \"time travel space race\",\n",
    "    \"movie on thanksgiving\",\n",
    "    \"movie at air and space museum is cool movie\",\n",
    "    \"aspiring movie star\"\n",
    "]\n",
    "\n",
    "docs = [d.split() for d in raw_docs]\n",
    "\n",
    "vocab = list(set(' '.join(raw_docs).split()))\n",
    "vocab,len(vocab)"
   ]
  },
  {
   "cell_type": "code",
   "execution_count": 11,
   "metadata": {},
   "outputs": [
    {
     "data": {
      "text/plain": [
       "[[18, 1, 8, 1, 0, 10],\n",
       " [2, 21, 9, 18, 15, 8, 10],\n",
       " [1, 19, 22, 8, 14, 10],\n",
       " [26, 22, 3, 4],\n",
       " [23, 6, 7, 22],\n",
       " [17, 8, 14],\n",
       " [17, 24, 25, 20, 7, 11, 12, 13, 17],\n",
       " [16, 17, 5]]"
      ]
     },
     "execution_count": 11,
     "metadata": {},
     "output_type": "execute_result"
    }
   ],
   "source": [
    "#create word ids\n",
    "mapped_docs = []\n",
    "for doc in docs:\n",
    "    new_doc = []\n",
    "    vectorized_doc = doc \n",
    "    for i in range(len(doc)):\n",
    "        vectorized_doc[i] = vocab.index(doc[i])\n",
    "    mapped_docs.append(vectorized_doc)\n",
    "\n",
    "        \n",
    "mapped_docs"
   ]
  },
  {
   "cell_type": "code",
   "execution_count": 27,
   "metadata": {},
   "outputs": [],
   "source": [
    "K=2\n",
    "\n",
    "#topic-word matrix\n",
    "tw_matrix = np.zeros((K,len(vocab)))\n",
    "\n",
    "#topic assignment list\n",
    "ta_list = [np.zeros((1,len(d)))[0] for d in docs]\n",
    "\n",
    "#document-topic matrix\n",
    "dt_matrix = np.zeros((len(docs),K))\n",
    "\n"
   ]
  },
  {
   "cell_type": "code",
   "execution_count": 28,
   "metadata": {},
   "outputs": [],
   "source": [
    "#Randomly intitialize\n",
    "np.random.seed(47)\n",
    "\n",
    "for d in range(len(docs)):\n",
    "    for w in range(len(mapped_docs[d])):\n",
    "        #print(f'{d},{w}')\n",
    "        ta_list[d][w] = np.random.randint(0,K)\n",
    "        \n",
    "        ti = int(ta_list[d][w])\n",
    "        wi = int(mapped_docs[d][w])\n",
    "        #print(f'{ti},{wi}')\n",
    "        tw_matrix[ti, wi] = tw_matrix[ti][wi] + 1\n",
    "    \n",
    "    for t in range(K):\n",
    "        #Number of words in document d with topic assignment t\n",
    "        dt_matrix[d, t] = np.where(ta_list[d] == t)[0].shape[0]"
   ]
  },
  {
   "cell_type": "code",
   "execution_count": 29,
   "metadata": {},
   "outputs": [
    {
     "data": {
      "text/html": [
       "<div>\n",
       "<style scoped>\n",
       "    .dataframe tbody tr th:only-of-type {\n",
       "        vertical-align: middle;\n",
       "    }\n",
       "\n",
       "    .dataframe tbody tr th {\n",
       "        vertical-align: top;\n",
       "    }\n",
       "\n",
       "    .dataframe thead th {\n",
       "        text-align: right;\n",
       "    }\n",
       "</style>\n",
       "<table border=\"1\" class=\"dataframe\">\n",
       "  <thead>\n",
       "    <tr style=\"text-align: right;\">\n",
       "      <th></th>\n",
       "      <th>0</th>\n",
       "      <th>1</th>\n",
       "      <th>2</th>\n",
       "      <th>3</th>\n",
       "      <th>4</th>\n",
       "      <th>5</th>\n",
       "      <th>6</th>\n",
       "      <th>7</th>\n",
       "      <th>8</th>\n",
       "      <th>9</th>\n",
       "      <th>...</th>\n",
       "      <th>17</th>\n",
       "      <th>18</th>\n",
       "      <th>19</th>\n",
       "      <th>20</th>\n",
       "      <th>21</th>\n",
       "      <th>22</th>\n",
       "      <th>23</th>\n",
       "      <th>24</th>\n",
       "      <th>25</th>\n",
       "      <th>26</th>\n",
       "    </tr>\n",
       "  </thead>\n",
       "  <tbody>\n",
       "    <tr>\n",
       "      <th>0</th>\n",
       "      <td>1.0</td>\n",
       "      <td>2.0</td>\n",
       "      <td>1.0</td>\n",
       "      <td>0.0</td>\n",
       "      <td>1.0</td>\n",
       "      <td>0.0</td>\n",
       "      <td>0.0</td>\n",
       "      <td>2.0</td>\n",
       "      <td>1.0</td>\n",
       "      <td>0.0</td>\n",
       "      <td>...</td>\n",
       "      <td>2.0</td>\n",
       "      <td>1.0</td>\n",
       "      <td>0.0</td>\n",
       "      <td>1.0</td>\n",
       "      <td>0.0</td>\n",
       "      <td>1.0</td>\n",
       "      <td>1.0</td>\n",
       "      <td>1.0</td>\n",
       "      <td>1.0</td>\n",
       "      <td>0.0</td>\n",
       "    </tr>\n",
       "    <tr>\n",
       "      <th>1</th>\n",
       "      <td>0.0</td>\n",
       "      <td>1.0</td>\n",
       "      <td>0.0</td>\n",
       "      <td>1.0</td>\n",
       "      <td>0.0</td>\n",
       "      <td>1.0</td>\n",
       "      <td>1.0</td>\n",
       "      <td>0.0</td>\n",
       "      <td>3.0</td>\n",
       "      <td>1.0</td>\n",
       "      <td>...</td>\n",
       "      <td>2.0</td>\n",
       "      <td>1.0</td>\n",
       "      <td>1.0</td>\n",
       "      <td>0.0</td>\n",
       "      <td>1.0</td>\n",
       "      <td>2.0</td>\n",
       "      <td>0.0</td>\n",
       "      <td>0.0</td>\n",
       "      <td>0.0</td>\n",
       "      <td>1.0</td>\n",
       "    </tr>\n",
       "  </tbody>\n",
       "</table>\n",
       "<p>2 rows × 27 columns</p>\n",
       "</div>"
      ],
      "text/plain": [
       "    0    1    2    3    4    5    6    7    8    9   ...   17   18   19   20  \\\n",
       "0  1.0  2.0  1.0  0.0  1.0  0.0  0.0  2.0  1.0  0.0  ...  2.0  1.0  0.0  1.0   \n",
       "1  0.0  1.0  0.0  1.0  0.0  1.0  1.0  0.0  3.0  1.0  ...  2.0  1.0  1.0  0.0   \n",
       "\n",
       "    21   22   23   24   25   26  \n",
       "0  0.0  1.0  1.0  1.0  1.0  0.0  \n",
       "1  1.0  2.0  0.0  0.0  0.0  1.0  \n",
       "\n",
       "[2 rows x 27 columns]"
      ]
     },
     "execution_count": 29,
     "metadata": {},
     "output_type": "execute_result"
    }
   ],
   "source": [
    "pd.DataFrame(tw_matrix)"
   ]
  },
  {
   "cell_type": "code",
   "execution_count": 30,
   "metadata": {},
   "outputs": [
    {
     "data": {
      "text/html": [
       "<div>\n",
       "<style scoped>\n",
       "    .dataframe tbody tr th:only-of-type {\n",
       "        vertical-align: middle;\n",
       "    }\n",
       "\n",
       "    .dataframe tbody tr th {\n",
       "        vertical-align: top;\n",
       "    }\n",
       "\n",
       "    .dataframe thead th {\n",
       "        text-align: right;\n",
       "    }\n",
       "</style>\n",
       "<table border=\"1\" class=\"dataframe\">\n",
       "  <thead>\n",
       "    <tr style=\"text-align: right;\">\n",
       "      <th></th>\n",
       "      <th>0</th>\n",
       "      <th>1</th>\n",
       "    </tr>\n",
       "  </thead>\n",
       "  <tbody>\n",
       "    <tr>\n",
       "      <th>0</th>\n",
       "      <td>3.0</td>\n",
       "      <td>3.0</td>\n",
       "    </tr>\n",
       "    <tr>\n",
       "      <th>1</th>\n",
       "      <td>2.0</td>\n",
       "      <td>5.0</td>\n",
       "    </tr>\n",
       "    <tr>\n",
       "      <th>2</th>\n",
       "      <td>3.0</td>\n",
       "      <td>3.0</td>\n",
       "    </tr>\n",
       "    <tr>\n",
       "      <th>3</th>\n",
       "      <td>1.0</td>\n",
       "      <td>3.0</td>\n",
       "    </tr>\n",
       "    <tr>\n",
       "      <th>4</th>\n",
       "      <td>2.0</td>\n",
       "      <td>2.0</td>\n",
       "    </tr>\n",
       "    <tr>\n",
       "      <th>5</th>\n",
       "      <td>1.0</td>\n",
       "      <td>2.0</td>\n",
       "    </tr>\n",
       "    <tr>\n",
       "      <th>6</th>\n",
       "      <td>6.0</td>\n",
       "      <td>3.0</td>\n",
       "    </tr>\n",
       "    <tr>\n",
       "      <th>7</th>\n",
       "      <td>1.0</td>\n",
       "      <td>2.0</td>\n",
       "    </tr>\n",
       "  </tbody>\n",
       "</table>\n",
       "</div>"
      ],
      "text/plain": [
       "     0    1\n",
       "0  3.0  3.0\n",
       "1  2.0  5.0\n",
       "2  3.0  3.0\n",
       "3  1.0  3.0\n",
       "4  2.0  2.0\n",
       "5  1.0  2.0\n",
       "6  6.0  3.0\n",
       "7  1.0  2.0"
      ]
     },
     "execution_count": 30,
     "metadata": {},
     "output_type": "execute_result"
    }
   ],
   "source": [
    "pd.DataFrame(dt_matrix)"
   ]
  },
  {
   "cell_type": "code",
   "execution_count": 31,
   "metadata": {},
   "outputs": [
    {
     "data": {
      "text/plain": [
       "(array([0.04347826, 0.02040816]),\n",
       " array([0.44444444, 0.55555556]),\n",
       " array([0.01932367, 0.01133787]),\n",
       " 0.030661539978310164)"
      ]
     },
     "execution_count": 31,
     "metadata": {},
     "output_type": "execute_result"
    }
   ],
   "source": [
    "#calculating P(z_i|*)\n",
    "alpha = 1\n",
    "eta = 1\n",
    "\n",
    "init_topic = int(ta_list[0][0])\n",
    "word_id = docs[0][0]\n",
    "\n",
    "#z_-i term, \n",
    "dt_matrix[0, init_topic] = dt_matrix[1, init_topic] - 1\n",
    "tw_matrix[init_topic, word_id] = tw_matrix[init_topic, word_id] - 1\n",
    "\n",
    "#word topic  mean\n",
    "wt_means = (tw_matrix[:, word_id] + eta) / (tw_matrix.sum(axis=1) + len(vocab)*eta)\n",
    "dt_means = (dt_matrix[0,:]+alpha) / (dt_matrix[0,:].sum() + K*alpha )\n",
    "\n",
    "probs = wt_means*dt_means\n",
    "wt_means,dt_means, probs,sum(probs)"
   ]
  },
  {
   "cell_type": "code",
   "execution_count": 32,
   "metadata": {},
   "outputs": [
    {
     "data": {
      "text/plain": [
       "array([0.63022508, 0.36977492])"
      ]
     },
     "execution_count": 32,
     "metadata": {},
     "output_type": "execute_result"
    }
   ],
   "source": [
    "probs = probs/probs.sum()\n",
    "probs"
   ]
  },
  {
   "cell_type": "code",
   "execution_count": 33,
   "metadata": {},
   "outputs": [
    {
     "data": {
      "text/plain": [
       "0"
      ]
     },
     "execution_count": 33,
     "metadata": {},
     "output_type": "execute_result"
    }
   ],
   "source": [
    "new_topic = np.random.choice(range(K),p=probs)\n",
    "new_topic"
   ]
  },
  {
   "cell_type": "code",
   "execution_count": 34,
   "metadata": {},
   "outputs": [
    {
     "data": {
      "text/plain": [
       "1"
      ]
     },
     "execution_count": 34,
     "metadata": {},
     "output_type": "execute_result"
    }
   ],
   "source": [
    "init_topic"
   ]
  },
  {
   "cell_type": "code",
   "execution_count": 20,
   "metadata": {},
   "outputs": [
    {
     "data": {
      "text/plain": [
       "1.0"
      ]
     },
     "execution_count": 20,
     "metadata": {},
     "output_type": "execute_result"
    }
   ],
   "source": [
    "ta_list[0][0]"
   ]
  }
 ],
 "metadata": {
  "kernelspec": {
   "display_name": "Python 3",
   "language": "python",
   "name": "python3"
  },
  "language_info": {
   "codemirror_mode": {
    "name": "ipython",
    "version": 3
   },
   "file_extension": ".py",
   "mimetype": "text/x-python",
   "name": "python",
   "nbconvert_exporter": "python",
   "pygments_lexer": "ipython3",
   "version": "3.7.3"
  }
 },
 "nbformat": 4,
 "nbformat_minor": 2
}
